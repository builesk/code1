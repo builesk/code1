{
  "nbformat": 4,
  "nbformat_minor": 0,
  "metadata": {
    "colab": {
      "provenance": [],
      "toc_visible": true,
      "authorship_tag": "ABX9TyMEi6v12mCWVdweYjWx7jH/",
      "include_colab_link": true
    },
    "kernelspec": {
      "name": "python3",
      "display_name": "Python 3"
    },
    "language_info": {
      "name": "python"
    }
  },
  "cells": [
    {
      "cell_type": "markdown",
      "metadata": {
        "id": "view-in-github",
        "colab_type": "text"
      },
      "source": [
        "<a href=\"https://colab.research.google.com/github/builesk/code1/blob/main/Untitled9.ipynb\" target=\"_parent\"><img src=\"https://colab.research.google.com/assets/colab-badge.svg\" alt=\"Open In Colab\"/></a>"
      ]
    },
    {
      "cell_type": "code",
      "execution_count": 1,
      "metadata": {
        "id": "Gpd1wAPN_Otq"
      },
      "outputs": [],
      "source": [
        "def simulacion_calor(placa_dimension, temp_borde_superior, temp_inicial, temp_borde_inferior, temp_borde_lateral_izquierda, temp_borde_lateral_derecha, figsize):\n",
        "    # ... (cuerpo de la función)\n",
        "    return T\n"
      ]
    }
  ]
}